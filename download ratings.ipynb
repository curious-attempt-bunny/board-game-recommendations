{
 "cells": [
  {
   "cell_type": "code",
   "execution_count": null,
   "metadata": {
    "collapsed": false
   },
   "outputs": [],
   "source": [
    "import pandas as pd\n",
    "import requests\n",
    "import time\n",
    "from xml.etree import ElementTree\n",
    "import sys"
   ]
  },
  {
   "cell_type": "code",
   "execution_count": null,
   "metadata": {
    "collapsed": false
   },
   "outputs": [],
   "source": [
    "game_ratings = pd.DataFrame([])\n",
    "# game_ratings = pd.read_csv('game_ratings.csv', encoding='utf-8', index_col=0)\n",
    "user_games = pd.DataFrame([])\n",
    "\n",
    "games_done = set(game_ratings.index.values)"
   ]
  },
  {
   "cell_type": "code",
   "execution_count": null,
   "metadata": {
    "collapsed": false
   },
   "outputs": [],
   "source": [
    "def addgame(df, game_id):\n",
    "    if game_id in games_done:\n",
    "        print('Skipping %d, already loaded.' % game_id)\n",
    "        return\n",
    "    \n",
    "    games_done.add(game_id)\n",
    "    \n",
    "    url = \"http://www.boardgamegeek.com/xmlapi/boardgame/%d?comments=1&pagesize=100\" % game_id\n",
    "    page = 1\n",
    "    \n",
    "    total = 0\n",
    "    votes = 0\n",
    "\n",
    "    \n",
    "    try:\n",
    "        while(True):\n",
    "            sys.stdout.write('.')\n",
    "            sys.stdout.flush()\n",
    "    #         print('Getting page %d...' % page)\n",
    "            r = requests.get('%s&page=%d' % (url,page))\n",
    "            tree = ElementTree.fromstring(r.content)\n",
    "            assert tree.tag == 'boardgames'\n",
    "\n",
    "            if page == 1:\n",
    "    #             print(r.content)\n",
    "                print('%d is %s' % (game_id, tree.findall(\".//name[@primary='true']\")[0].text))\n",
    "\n",
    "            comments = tree.findall(\".//comment\")\n",
    "    #         print(\"comments \", len(comments))\n",
    "    #         print()\n",
    "\n",
    "            for comment in comments:\n",
    "                if comment.get('rating') != 'N/A':\n",
    "#                     print(comment.get('username'),comment.get('rating'))\n",
    "                    df.loc[game_id,comment.get('username')] = float(comment.get('rating'))\n",
    "                    votes = votes + 1\n",
    "                    total = total + float(comment.get('rating'))\n",
    "\n",
    "            if len(comments) != 100:\n",
    "                break\n",
    "\n",
    "            page = page + 1\n",
    "\n",
    "        print('%d votes added.' % votes)\n",
    "    except:\n",
    "        print('Caught an error... :(')\n",
    "        pass\n",
    "    \n",
    "    return df\n",
    "\n",
    "addgame(game_ratings, 205637)"
   ]
  },
  {
   "cell_type": "code",
   "execution_count": null,
   "metadata": {
    "collapsed": false
   },
   "outputs": [],
   "source": [
    "def get_user(user_games, user):\n",
    "    print('Getting user %s' % user)\n",
    "    url = \"http://www.boardgamegeek.com/xmlapi/collection/\" + user\n",
    "    r = requests.get(url)\n",
    "    while(r.status_code == 202):\n",
    "        time.sleep(1)\n",
    "        print(\"Slept 1\")\n",
    "        r = requests.get(url)\n",
    "        \n",
    "#     print(r.content)\n",
    "    tree = ElementTree.fromstring(r.content)\n",
    "    \n",
    "    for game in tree.findall(\".//item[@subtype='boardgame']\"):\n",
    "        user_games.loc[user, game.get('objectid')] = 1\n",
    "        \n",
    "#     print(r.content)\n",
    "    \n",
    "    return user_games\n",
    "\n",
    "def find_a_user(game_ratings, user_games):\n",
    "    user = list(set(game_ratings.columns.values).difference(user_games.T.columns.values))[0]\n",
    "    return get_user(user_games, user)\n",
    "\n",
    "def find_game(game_ratings, user_games):\n",
    "    for game_id in user_games.sum().sort_values(ascending=False).index.values:\n",
    "        game_id = int(game_id)\n",
    "        if not(game_id in games_done):\n",
    "            print('Found %d' % game_id)\n",
    "        \n",
    "            return addgame(game_ratings, game_id)\n",
    "\n",
    "    print('Getting more users')\n",
    "    find_a_user(game_ratings, user_games)\n",
    "    return find_game(game_ratings, user_games)\n",
    "        \n",
    "# find_a_user(game_ratings, user_games)\n"
   ]
  },
  {
   "cell_type": "code",
   "execution_count": null,
   "metadata": {
    "collapsed": false
   },
   "outputs": [],
   "source": [
    "addgame(game_ratings, 205637)\n",
    "\n",
    "# print(\"Priming...\")\n",
    "# for i, user_id in enumerate(game_ratings.columns.values):\n",
    "#     if i > 100:\n",
    "#         break\n",
    "#     requests.get(\"http://www.boardgamegeek.com/xmlapi/collection/%s\" % user_id)\n",
    "# print(\"Primed.\")\n",
    "\n",
    "# import numpy as np\n",
    "# for i in np.arange(100 - user_games.shape[0]):\n",
    "#     find_a_user(game_ratings, user_games)\n",
    "\n",
    "while(True):\n",
    "    print(find_game(game_ratings, user_games).shape)\n",
    "    if game_ratings.index.values.shape[0] % 10 == 0:\n",
    "        find_a_user(game_ratings, user_games)\n",
    "    if game_ratings.index.values.shape[0] % 50 == 0:\n",
    "        game_ratings.to_csv('game_ratings.csv', encoding='utf-8')"
   ]
  },
  {
   "cell_type": "code",
   "execution_count": null,
   "metadata": {
    "collapsed": true
   },
   "outputs": [],
   "source": []
  }
 ],
 "metadata": {
  "anaconda-cloud": {},
  "kernelspec": {
   "display_name": "Python [Root]",
   "language": "python",
   "name": "Python [Root]"
  },
  "language_info": {
   "codemirror_mode": {
    "name": "ipython",
    "version": 2
   },
   "file_extension": ".py",
   "mimetype": "text/x-python",
   "name": "python",
   "nbconvert_exporter": "python",
   "pygments_lexer": "ipython2",
   "version": "2.7.12"
  }
 },
 "nbformat": 4,
 "nbformat_minor": 0
}
