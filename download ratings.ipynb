{
 "cells": [
  {
   "cell_type": "code",
   "execution_count": 1,
   "metadata": {
    "collapsed": false
   },
   "outputs": [],
   "source": [
    "import pandas as pd\n",
    "import requests\n",
    "import time\n",
    "from xml.etree import ElementTree\n",
    "import sys"
   ]
  },
  {
   "cell_type": "code",
   "execution_count": 2,
   "metadata": {
    "collapsed": true
   },
   "outputs": [],
   "source": [
    "game_ratings = pd.DataFrame([])\n",
    "user_games = pd.DataFrame([])"
   ]
  },
  {
   "cell_type": "code",
   "execution_count": 3,
   "metadata": {
    "collapsed": false
   },
   "outputs": [],
   "source": [
    "def addgame(df, game_id):\n",
    "    if not(df.empty):\n",
    "        if df.ix[[game_id]].T.sum().iloc[0] > 0:\n",
    "            print('Skipping %d, already loaded.' % game_id)\n",
    "            return\n",
    "    \n",
    "    url = \"http://www.boardgamegeek.com/xmlapi/boardgame/%d?comments=1&pagesize=100\" % game_id\n",
    "    page = 1\n",
    "    \n",
    "    total = 0\n",
    "    votes = 0\n",
    "\n",
    "    try:\n",
    "        while(True):\n",
    "            sys.stdout.write('.')\n",
    "            sys.stdout.flush()\n",
    "    #         print('Getting page %d...' % page)\n",
    "            r = requests.get('%s&page=%d' % (url,page))\n",
    "            tree = ElementTree.fromstring(r.content)\n",
    "            assert tree.tag == 'boardgames'\n",
    "\n",
    "            if page == 1:\n",
    "    #             print(r.content)\n",
    "                print('%d is %s' % (game_id, tree.findall(\".//name[@primary='true']\")[0].text))\n",
    "\n",
    "            comments = tree.findall(\".//comment\")\n",
    "    #         print(\"comments \", len(comments))\n",
    "    #         print()\n",
    "\n",
    "            for comment in comments:\n",
    "                if comment.get('rating') != 'N/A':\n",
    "    #                 print(comment.get('username'),comment.get('rating'))\n",
    "                    df.loc[game_id,comment.get('username')] = float(comment.get('rating'))\n",
    "                    votes = votes + 1\n",
    "                    total = total + float(comment.get('rating'))\n",
    "\n",
    "            if len(comments) != 100:\n",
    "                break\n",
    "\n",
    "            page = page + 1\n",
    "\n",
    "        print('%d votes added.' % total)\n",
    "    except:\n",
    "        print('Caught an error... :(')\n",
    "        pass\n",
    "    \n",
    "    return df\n",
    "\n",
    "# addgame(game_ratings, 205637)"
   ]
  },
  {
   "cell_type": "code",
   "execution_count": 4,
   "metadata": {
    "collapsed": false
   },
   "outputs": [],
   "source": [
    "def get_user(user_games, user):\n",
    "    print('Getting user %s' % user)\n",
    "    url = \"http://www.boardgamegeek.com/xmlapi/collection/\" + user\n",
    "    r = requests.get(url)\n",
    "    while(r.status_code == 202):\n",
    "        time.sleep(1)\n",
    "        print(\"Slept 1\")\n",
    "        r = requests.get(url)\n",
    "        \n",
    "#     print(r.content)\n",
    "    tree = ElementTree.fromstring(r.content)\n",
    "    \n",
    "    for game in tree.findall(\".//item[@subtype='boardgame']\"):\n",
    "        user_games.loc[user, game.get('objectid')] = 1\n",
    "        \n",
    "#     print(r.content)\n",
    "    \n",
    "    return user_games\n",
    "\n",
    "def find_a_user(game_ratings, user_games):\n",
    "    user = list(set(game_ratings.columns.values).difference(user_games.T.columns.values))[0]\n",
    "    return get_user(user_games, user)\n",
    "\n",
    "def find_game(game_ratings, user_games):\n",
    "    for game_id in user_games.sum().sort_values(ascending=False).index.values:\n",
    "        game_id = int(game_id)\n",
    "        got = False\n",
    "        if not(game_ratings.empty):\n",
    "            if game_ratings.ix[[game_id]].T.sum().iloc[0] > 0:\n",
    "#                 print('Got %d already' % game_id)\n",
    "                got = True\n",
    "                \n",
    "        if not(got):\n",
    "            print('Found %d' % game_id)\n",
    "        \n",
    "            return addgame(game_ratings, game_id)\n",
    "\n",
    "    print('Getting more users')\n",
    "    find_a_user(game_ratings, user_games)\n",
    "    return find_game(game_ratings, user_games)\n",
    "        \n",
    "# find_a_user(game_ratings, user_games)\n"
   ]
  },
  {
   "cell_type": "code",
   "execution_count": null,
   "metadata": {
    "collapsed": false
   },
   "outputs": [
    {
     "name": "stdout",
     "output_type": "stream",
     "text": [
      "Found 39707\n",
      ".39707 is Dominion: Envoy Promo Card\n",
      "........3785 votes added.\n",
      "(632, 55928)\n",
      "Found 21050\n",
      ".21050 is Combat Commander: Europe\n",
      "...............10674 votes added.\n",
      "(633, 55992)\n",
      "Found 22825\n",
      ".22825 is Tide of Iron\n",
      "...........6043 votes added.\n",
      "(634, 56017)\n",
      "Found 146886\n",
      ".146886 is La Granja\n",
      "........5112 votes added.\n",
      "(635, 56027)\n",
      "Found 73171\n",
      ".73171 is Earth Reborn\n",
      ".........5180 votes added.\n",
      "(636, 56054)\n",
      "Found 66589\n",
      ".66589 is Navegador\n",
      ".............8276 votes added.\n",
      "(637, 56057)\n",
      "Found 137269\n",
      ".137269 is Spyrium\n",
      "......"
     ]
    }
   ],
   "source": [
    "# import numpy as np\n",
    "# for i in np.arange(100):\n",
    "#     find_a_user(game_ratings, user_games)\n",
    "\n",
    "# get_user(user_games, 'hitechbunny')\n",
    "while(True):\n",
    "    print(find_game(game_ratings, user_games).shape)\n",
    "    if game_ratings.index.values.shape[0] % 50 == 0:\n",
    "        game_ratings.to_csv('game_ratings.csv', encoding='utf-8')"
   ]
  },
  {
   "cell_type": "code",
   "execution_count": null,
   "metadata": {
    "collapsed": false
   },
   "outputs": [],
   "source": [
    "# print game_ratings.shape\n",
    "# (game_ratings.notnull().sum() < 2).index.values.shape\n",
    "# game_ratings.notnull().sum() < 2\n",
    "# game_ratings.columns.values[ (game_ratings.notnull().sum() < 2).values ]\n",
    "game_ratings.drop(game_ratings.columns.values[ (game_ratings.notnull().sum() < 4).values ], axis=1).shape\n",
    "# compact = game_ratings.drop((game_ratings.notnull().sum() < 2).index.values, axis=1)\n",
    "# compact"
   ]
  },
  {
   "cell_type": "code",
   "execution_count": 14,
   "metadata": {
    "collapsed": false
   },
   "outputs": [
    {
     "data": {
      "text/plain": [
       "9"
      ]
     },
     "execution_count": 14,
     "metadata": {},
     "output_type": "execute_result"
    }
   ],
   "source": [
    "import math\n",
    "\n",
    "game_ratings.index.values.shape[0] % 10\n",
    "\n"
   ]
  },
  {
   "cell_type": "code",
   "execution_count": 16,
   "metadata": {
    "collapsed": false
   },
   "outputs": [
    {
     "ename": "NameError",
     "evalue": "name 'np' is not defined",
     "output_type": "error",
     "traceback": [
      "\u001b[0;31m---------------------------------------------------------------------------\u001b[0m",
      "\u001b[0;31mNameError\u001b[0m                                 Traceback (most recent call last)",
      "\u001b[0;32m<ipython-input-16-8a351465140a>\u001b[0m in \u001b[0;36m<module>\u001b[0;34m()\u001b[0m\n\u001b[0;32m----> 1\u001b[0;31m \u001b[0;32mfor\u001b[0m \u001b[0mi\u001b[0m \u001b[0;32min\u001b[0m \u001b[0mnp\u001b[0m\u001b[0;34m.\u001b[0m\u001b[0marange\u001b[0m\u001b[0;34m(\u001b[0m\u001b[0;36m100\u001b[0m\u001b[0;34m)\u001b[0m\u001b[0;34m:\u001b[0m\u001b[0;34m\u001b[0m\u001b[0m\n\u001b[0m\u001b[1;32m      2\u001b[0m     \u001b[0mfind_a_user\u001b[0m\u001b[0;34m(\u001b[0m\u001b[0mgame_ratings\u001b[0m\u001b[0;34m,\u001b[0m \u001b[0muser_games\u001b[0m\u001b[0;34m)\u001b[0m\u001b[0;34m\u001b[0m\u001b[0m\n",
      "\u001b[0;31mNameError\u001b[0m: name 'np' is not defined"
     ]
    }
   ],
   "source": []
  },
  {
   "cell_type": "code",
   "execution_count": null,
   "metadata": {
    "collapsed": false
   },
   "outputs": [],
   "source": [
    "user_games"
   ]
  },
  {
   "cell_type": "code",
   "execution_count": null,
   "metadata": {
    "collapsed": false
   },
   "outputs": [],
   "source": [
    "df.ix[[123]].T.sum().iloc[0]"
   ]
  }
 ],
 "metadata": {
  "anaconda-cloud": {},
  "kernelspec": {
   "display_name": "Python [Root]",
   "language": "python",
   "name": "Python [Root]"
  },
  "language_info": {
   "codemirror_mode": {
    "name": "ipython",
    "version": 2
   },
   "file_extension": ".py",
   "mimetype": "text/x-python",
   "name": "python",
   "nbconvert_exporter": "python",
   "pygments_lexer": "ipython2",
   "version": "2.7.12"
  }
 },
 "nbformat": 4,
 "nbformat_minor": 0
}
