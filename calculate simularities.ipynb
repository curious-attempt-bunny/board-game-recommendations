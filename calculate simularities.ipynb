{
 "cells": [
  {
   "cell_type": "code",
   "execution_count": 1,
   "metadata": {
    "collapsed": true
   },
   "outputs": [],
   "source": [
    "import pandas as pd\n",
    "import numpy as np\n",
    "import time"
   ]
  },
  {
   "cell_type": "code",
   "execution_count": 2,
   "metadata": {
    "collapsed": true
   },
   "outputs": [],
   "source": [
    "ratings = pd.read_csv('game_ratings.csv.gz', encoding='utf-8', compression='gzip', index_col=0)"
   ]
  },
  {
   "cell_type": "code",
   "execution_count": 3,
   "metadata": {
    "collapsed": false
   },
   "outputs": [
    {
     "data": {
      "text/plain": [
       "(290, 63110)"
      ]
     },
     "execution_count": 3,
     "metadata": {},
     "output_type": "execute_result"
    }
   ],
   "source": [
    "ratings.shape"
   ]
  },
  {
   "cell_type": "code",
   "execution_count": 4,
   "metadata": {
    "collapsed": false
   },
   "outputs": [],
   "source": [
    "ratings.drop(ratings.columns[ ratings.notnull().sum() < 3 ], axis=1, inplace=True)"
   ]
  },
  {
   "cell_type": "code",
   "execution_count": 5,
   "metadata": {
    "collapsed": false
   },
   "outputs": [
    {
     "data": {
      "text/plain": [
       "(290, 25048)"
      ]
     },
     "execution_count": 5,
     "metadata": {},
     "output_type": "execute_result"
    }
   ],
   "source": [
    "ratings.shape"
   ]
  },
  {
   "cell_type": "code",
   "execution_count": 6,
   "metadata": {
    "collapsed": false
   },
   "outputs": [
    {
     "data": {
      "text/html": [
       "<div>\n",
       "<table border=\"1\" class=\"dataframe\">\n",
       "  <thead>\n",
       "    <tr style=\"text-align: right;\">\n",
       "      <th></th>\n",
       "      <th>AceAceBaby</th>\n",
       "      <th>AdmiralACF</th>\n",
       "      <th>agreen53</th>\n",
       "      <th>ALSB</th>\n",
       "      <th>Altasia</th>\n",
       "      <th>Altoid Guy</th>\n",
       "      <th>anatana</th>\n",
       "      <th>AnotherHorrorFan</th>\n",
       "      <th>Armadillo Al</th>\n",
       "      <th>auroramu</th>\n",
       "      <th>...</th>\n",
       "      <th>Wire Bender</th>\n",
       "      <th>yams69</th>\n",
       "      <th>yggsdrasil23</th>\n",
       "      <th>Zaksgirl</th>\n",
       "      <th>chutspe</th>\n",
       "      <th>boywonder_uk</th>\n",
       "      <th>gfeiden</th>\n",
       "      <th>Mikis</th>\n",
       "      <th>MrCryptic</th>\n",
       "      <th>MrFlibble2999</th>\n",
       "    </tr>\n",
       "  </thead>\n",
       "  <tbody>\n",
       "    <tr>\n",
       "      <th>175223</th>\n",
       "      <td>8.0</td>\n",
       "      <td>8.0</td>\n",
       "      <td>8.0</td>\n",
       "      <td>7.0</td>\n",
       "      <td>8.0</td>\n",
       "      <td>8.0</td>\n",
       "      <td>9.0</td>\n",
       "      <td>8.5</td>\n",
       "      <td>7.0</td>\n",
       "      <td>6.5</td>\n",
       "      <td>...</td>\n",
       "      <td>NaN</td>\n",
       "      <td>NaN</td>\n",
       "      <td>NaN</td>\n",
       "      <td>NaN</td>\n",
       "      <td>NaN</td>\n",
       "      <td>NaN</td>\n",
       "      <td>NaN</td>\n",
       "      <td>NaN</td>\n",
       "      <td>NaN</td>\n",
       "      <td>NaN</td>\n",
       "    </tr>\n",
       "    <tr>\n",
       "      <th>40834</th>\n",
       "      <td>NaN</td>\n",
       "      <td>NaN</td>\n",
       "      <td>NaN</td>\n",
       "      <td>NaN</td>\n",
       "      <td>NaN</td>\n",
       "      <td>8.0</td>\n",
       "      <td>NaN</td>\n",
       "      <td>9.0</td>\n",
       "      <td>NaN</td>\n",
       "      <td>NaN</td>\n",
       "      <td>...</td>\n",
       "      <td>NaN</td>\n",
       "      <td>NaN</td>\n",
       "      <td>NaN</td>\n",
       "      <td>NaN</td>\n",
       "      <td>NaN</td>\n",
       "      <td>NaN</td>\n",
       "      <td>NaN</td>\n",
       "      <td>NaN</td>\n",
       "      <td>NaN</td>\n",
       "      <td>NaN</td>\n",
       "    </tr>\n",
       "    <tr>\n",
       "      <th>178900</th>\n",
       "      <td>NaN</td>\n",
       "      <td>5.0</td>\n",
       "      <td>NaN</td>\n",
       "      <td>NaN</td>\n",
       "      <td>NaN</td>\n",
       "      <td>NaN</td>\n",
       "      <td>9.0</td>\n",
       "      <td>9.0</td>\n",
       "      <td>9.0</td>\n",
       "      <td>NaN</td>\n",
       "      <td>...</td>\n",
       "      <td>NaN</td>\n",
       "      <td>NaN</td>\n",
       "      <td>NaN</td>\n",
       "      <td>NaN</td>\n",
       "      <td>NaN</td>\n",
       "      <td>NaN</td>\n",
       "      <td>NaN</td>\n",
       "      <td>NaN</td>\n",
       "      <td>NaN</td>\n",
       "      <td>NaN</td>\n",
       "    </tr>\n",
       "    <tr>\n",
       "      <th>104162</th>\n",
       "      <td>NaN</td>\n",
       "      <td>6.0</td>\n",
       "      <td>6.0</td>\n",
       "      <td>NaN</td>\n",
       "      <td>NaN</td>\n",
       "      <td>NaN</td>\n",
       "      <td>NaN</td>\n",
       "      <td>8.0</td>\n",
       "      <td>NaN</td>\n",
       "      <td>NaN</td>\n",
       "      <td>...</td>\n",
       "      <td>NaN</td>\n",
       "      <td>NaN</td>\n",
       "      <td>NaN</td>\n",
       "      <td>NaN</td>\n",
       "      <td>NaN</td>\n",
       "      <td>NaN</td>\n",
       "      <td>NaN</td>\n",
       "      <td>NaN</td>\n",
       "      <td>NaN</td>\n",
       "      <td>NaN</td>\n",
       "    </tr>\n",
       "    <tr>\n",
       "      <th>36218</th>\n",
       "      <td>5.0</td>\n",
       "      <td>NaN</td>\n",
       "      <td>3.0</td>\n",
       "      <td>NaN</td>\n",
       "      <td>NaN</td>\n",
       "      <td>8.0</td>\n",
       "      <td>NaN</td>\n",
       "      <td>9.0</td>\n",
       "      <td>9.0</td>\n",
       "      <td>7.0</td>\n",
       "      <td>...</td>\n",
       "      <td>NaN</td>\n",
       "      <td>NaN</td>\n",
       "      <td>NaN</td>\n",
       "      <td>NaN</td>\n",
       "      <td>NaN</td>\n",
       "      <td>NaN</td>\n",
       "      <td>NaN</td>\n",
       "      <td>NaN</td>\n",
       "      <td>NaN</td>\n",
       "      <td>NaN</td>\n",
       "    </tr>\n",
       "  </tbody>\n",
       "</table>\n",
       "<p>5 rows × 25048 columns</p>\n",
       "</div>"
      ],
      "text/plain": [
       "        AceAceBaby  AdmiralACF  agreen53  ALSB  Altasia  Altoid Guy  anatana  \\\n",
       "175223         8.0         8.0       8.0   7.0      8.0         8.0      9.0   \n",
       "40834          NaN         NaN       NaN   NaN      NaN         8.0      NaN   \n",
       "178900         NaN         5.0       NaN   NaN      NaN         NaN      9.0   \n",
       "104162         NaN         6.0       6.0   NaN      NaN         NaN      NaN   \n",
       "36218          5.0         NaN       3.0   NaN      NaN         8.0      NaN   \n",
       "\n",
       "        AnotherHorrorFan  Armadillo Al  auroramu      ...        Wire Bender  \\\n",
       "175223               8.5           7.0       6.5      ...                NaN   \n",
       "40834                9.0           NaN       NaN      ...                NaN   \n",
       "178900               9.0           9.0       NaN      ...                NaN   \n",
       "104162               8.0           NaN       NaN      ...                NaN   \n",
       "36218                9.0           9.0       7.0      ...                NaN   \n",
       "\n",
       "        yams69  yggsdrasil23  Zaksgirl  chutspe  boywonder_uk  gfeiden  Mikis  \\\n",
       "175223     NaN           NaN       NaN      NaN           NaN      NaN    NaN   \n",
       "40834      NaN           NaN       NaN      NaN           NaN      NaN    NaN   \n",
       "178900     NaN           NaN       NaN      NaN           NaN      NaN    NaN   \n",
       "104162     NaN           NaN       NaN      NaN           NaN      NaN    NaN   \n",
       "36218      NaN           NaN       NaN      NaN           NaN      NaN    NaN   \n",
       "\n",
       "        MrCryptic  MrFlibble2999  \n",
       "175223        NaN            NaN  \n",
       "40834         NaN            NaN  \n",
       "178900        NaN            NaN  \n",
       "104162        NaN            NaN  \n",
       "36218         NaN            NaN  \n",
       "\n",
       "[5 rows x 25048 columns]"
      ]
     },
     "execution_count": 6,
     "metadata": {},
     "output_type": "execute_result"
    }
   ],
   "source": [
    "ratings.head()\n"
   ]
  },
  {
   "cell_type": "code",
   "execution_count": 8,
   "metadata": {
    "collapsed": false
   },
   "outputs": [
    {
     "data": {
      "text/html": [
       "<div>\n",
       "<table border=\"1\" class=\"dataframe\">\n",
       "  <thead>\n",
       "    <tr style=\"text-align: right;\">\n",
       "      <th></th>\n",
       "      <th>0</th>\n",
       "    </tr>\n",
       "  </thead>\n",
       "  <tbody>\n",
       "    <tr>\n",
       "      <th>AceAceBaby</th>\n",
       "      <td>6.796296</td>\n",
       "    </tr>\n",
       "    <tr>\n",
       "      <th>AdmiralACF</th>\n",
       "      <td>6.257143</td>\n",
       "    </tr>\n",
       "    <tr>\n",
       "      <th>agreen53</th>\n",
       "      <td>6.486486</td>\n",
       "    </tr>\n",
       "    <tr>\n",
       "      <th>ALSB</th>\n",
       "      <td>7.500000</td>\n",
       "    </tr>\n",
       "    <tr>\n",
       "      <th>Altasia</th>\n",
       "      <td>7.100000</td>\n",
       "    </tr>\n",
       "  </tbody>\n",
       "</table>\n",
       "</div>"
      ],
      "text/plain": [
       "                   0\n",
       "AceAceBaby  6.796296\n",
       "AdmiralACF  6.257143\n",
       "agreen53    6.486486\n",
       "ALSB        7.500000\n",
       "Altasia     7.100000"
      ]
     },
     "execution_count": 8,
     "metadata": {},
     "output_type": "execute_result"
    }
   ],
   "source": [
    "mean = ratings.mean()\n",
    "pd.DataFrame(mean).head()"
   ]
  },
  {
   "cell_type": "code",
   "execution_count": 9,
   "metadata": {
    "collapsed": false
   },
   "outputs": [
    {
     "data": {
      "text/html": [
       "<div>\n",
       "<table border=\"1\" class=\"dataframe\">\n",
       "  <thead>\n",
       "    <tr style=\"text-align: right;\">\n",
       "      <th></th>\n",
       "      <th>AceAceBaby</th>\n",
       "      <th>AdmiralACF</th>\n",
       "      <th>agreen53</th>\n",
       "      <th>ALSB</th>\n",
       "      <th>Altasia</th>\n",
       "      <th>Altoid Guy</th>\n",
       "      <th>anatana</th>\n",
       "      <th>AnotherHorrorFan</th>\n",
       "      <th>Armadillo Al</th>\n",
       "      <th>auroramu</th>\n",
       "      <th>...</th>\n",
       "      <th>Wire Bender</th>\n",
       "      <th>yams69</th>\n",
       "      <th>yggsdrasil23</th>\n",
       "      <th>Zaksgirl</th>\n",
       "      <th>chutspe</th>\n",
       "      <th>boywonder_uk</th>\n",
       "      <th>gfeiden</th>\n",
       "      <th>Mikis</th>\n",
       "      <th>MrCryptic</th>\n",
       "      <th>MrFlibble2999</th>\n",
       "    </tr>\n",
       "  </thead>\n",
       "  <tbody>\n",
       "    <tr>\n",
       "      <th>175223</th>\n",
       "      <td>1.203704</td>\n",
       "      <td>1.742857</td>\n",
       "      <td>1.513514</td>\n",
       "      <td>-0.5</td>\n",
       "      <td>0.9</td>\n",
       "      <td>0.259259</td>\n",
       "      <td>1.146154</td>\n",
       "      <td>0.408537</td>\n",
       "      <td>-0.051282</td>\n",
       "      <td>-0.428571</td>\n",
       "      <td>...</td>\n",
       "      <td>NaN</td>\n",
       "      <td>NaN</td>\n",
       "      <td>NaN</td>\n",
       "      <td>NaN</td>\n",
       "      <td>NaN</td>\n",
       "      <td>NaN</td>\n",
       "      <td>NaN</td>\n",
       "      <td>NaN</td>\n",
       "      <td>NaN</td>\n",
       "      <td>NaN</td>\n",
       "    </tr>\n",
       "    <tr>\n",
       "      <th>40834</th>\n",
       "      <td>NaN</td>\n",
       "      <td>NaN</td>\n",
       "      <td>NaN</td>\n",
       "      <td>NaN</td>\n",
       "      <td>NaN</td>\n",
       "      <td>0.259259</td>\n",
       "      <td>NaN</td>\n",
       "      <td>0.908537</td>\n",
       "      <td>NaN</td>\n",
       "      <td>NaN</td>\n",
       "      <td>...</td>\n",
       "      <td>NaN</td>\n",
       "      <td>NaN</td>\n",
       "      <td>NaN</td>\n",
       "      <td>NaN</td>\n",
       "      <td>NaN</td>\n",
       "      <td>NaN</td>\n",
       "      <td>NaN</td>\n",
       "      <td>NaN</td>\n",
       "      <td>NaN</td>\n",
       "      <td>NaN</td>\n",
       "    </tr>\n",
       "    <tr>\n",
       "      <th>178900</th>\n",
       "      <td>NaN</td>\n",
       "      <td>-1.257143</td>\n",
       "      <td>NaN</td>\n",
       "      <td>NaN</td>\n",
       "      <td>NaN</td>\n",
       "      <td>NaN</td>\n",
       "      <td>1.146154</td>\n",
       "      <td>0.908537</td>\n",
       "      <td>1.948718</td>\n",
       "      <td>NaN</td>\n",
       "      <td>...</td>\n",
       "      <td>NaN</td>\n",
       "      <td>NaN</td>\n",
       "      <td>NaN</td>\n",
       "      <td>NaN</td>\n",
       "      <td>NaN</td>\n",
       "      <td>NaN</td>\n",
       "      <td>NaN</td>\n",
       "      <td>NaN</td>\n",
       "      <td>NaN</td>\n",
       "      <td>NaN</td>\n",
       "    </tr>\n",
       "    <tr>\n",
       "      <th>104162</th>\n",
       "      <td>NaN</td>\n",
       "      <td>-0.257143</td>\n",
       "      <td>-0.486486</td>\n",
       "      <td>NaN</td>\n",
       "      <td>NaN</td>\n",
       "      <td>NaN</td>\n",
       "      <td>NaN</td>\n",
       "      <td>-0.091463</td>\n",
       "      <td>NaN</td>\n",
       "      <td>NaN</td>\n",
       "      <td>...</td>\n",
       "      <td>NaN</td>\n",
       "      <td>NaN</td>\n",
       "      <td>NaN</td>\n",
       "      <td>NaN</td>\n",
       "      <td>NaN</td>\n",
       "      <td>NaN</td>\n",
       "      <td>NaN</td>\n",
       "      <td>NaN</td>\n",
       "      <td>NaN</td>\n",
       "      <td>NaN</td>\n",
       "    </tr>\n",
       "    <tr>\n",
       "      <th>36218</th>\n",
       "      <td>-1.796296</td>\n",
       "      <td>NaN</td>\n",
       "      <td>-3.486486</td>\n",
       "      <td>NaN</td>\n",
       "      <td>NaN</td>\n",
       "      <td>0.259259</td>\n",
       "      <td>NaN</td>\n",
       "      <td>0.908537</td>\n",
       "      <td>1.948718</td>\n",
       "      <td>0.071429</td>\n",
       "      <td>...</td>\n",
       "      <td>NaN</td>\n",
       "      <td>NaN</td>\n",
       "      <td>NaN</td>\n",
       "      <td>NaN</td>\n",
       "      <td>NaN</td>\n",
       "      <td>NaN</td>\n",
       "      <td>NaN</td>\n",
       "      <td>NaN</td>\n",
       "      <td>NaN</td>\n",
       "      <td>NaN</td>\n",
       "    </tr>\n",
       "  </tbody>\n",
       "</table>\n",
       "<p>5 rows × 25048 columns</p>\n",
       "</div>"
      ],
      "text/plain": [
       "        AceAceBaby  AdmiralACF  agreen53  ALSB  Altasia  Altoid Guy   anatana  \\\n",
       "175223    1.203704    1.742857  1.513514  -0.5      0.9    0.259259  1.146154   \n",
       "40834          NaN         NaN       NaN   NaN      NaN    0.259259       NaN   \n",
       "178900         NaN   -1.257143       NaN   NaN      NaN         NaN  1.146154   \n",
       "104162         NaN   -0.257143 -0.486486   NaN      NaN         NaN       NaN   \n",
       "36218    -1.796296         NaN -3.486486   NaN      NaN    0.259259       NaN   \n",
       "\n",
       "        AnotherHorrorFan  Armadillo Al  auroramu      ...        Wire Bender  \\\n",
       "175223          0.408537     -0.051282 -0.428571      ...                NaN   \n",
       "40834           0.908537           NaN       NaN      ...                NaN   \n",
       "178900          0.908537      1.948718       NaN      ...                NaN   \n",
       "104162         -0.091463           NaN       NaN      ...                NaN   \n",
       "36218           0.908537      1.948718  0.071429      ...                NaN   \n",
       "\n",
       "        yams69  yggsdrasil23  Zaksgirl  chutspe  boywonder_uk  gfeiden  Mikis  \\\n",
       "175223     NaN           NaN       NaN      NaN           NaN      NaN    NaN   \n",
       "40834      NaN           NaN       NaN      NaN           NaN      NaN    NaN   \n",
       "178900     NaN           NaN       NaN      NaN           NaN      NaN    NaN   \n",
       "104162     NaN           NaN       NaN      NaN           NaN      NaN    NaN   \n",
       "36218      NaN           NaN       NaN      NaN           NaN      NaN    NaN   \n",
       "\n",
       "        MrCryptic  MrFlibble2999  \n",
       "175223        NaN            NaN  \n",
       "40834         NaN            NaN  \n",
       "178900        NaN            NaN  \n",
       "104162        NaN            NaN  \n",
       "36218         NaN            NaN  \n",
       "\n",
       "[5 rows x 25048 columns]"
      ]
     },
     "execution_count": 9,
     "metadata": {},
     "output_type": "execute_result"
    }
   ],
   "source": [
    "normalized = ratings.sub(mean, axis=1)\n",
    "normalized.head()"
   ]
  },
  {
   "cell_type": "code",
   "execution_count": 12,
   "metadata": {
    "collapsed": false
   },
   "outputs": [
    {
     "name": "stdout",
     "output_type": "stream",
     "text": [
      "0.0909740924835\n"
     ]
    }
   ],
   "source": [
    "sqrt_sum_squares = normalized.pow(2).sum(axis=1).pow(0.5)\n"
   ]
  },
  {
   "cell_type": "code",
   "execution_count": 13,
   "metadata": {
    "collapsed": false
   },
   "outputs": [
    {
     "name": "stdout",
     "output_type": "stream",
     "text": [
      "==================================================================================================================================================================================================================================================================================================\n"
     ]
    },
    {
     "name": "stderr",
     "output_type": "stream",
     "text": [
      "/Users/merlyn/anaconda/lib/python2.7/site-packages/ipykernel/__main__.py:8: RuntimeWarning: invalid value encountered in double_scalars\n"
     ]
    },
    {
     "name": "stdout",
     "output_type": "stream",
     "text": [
      "..................................................................................................................................................................................................................................................................................................\n",
      "66.9106068611\n"
     ]
    }
   ],
   "source": [
    "import sys\n",
    "\n",
    "sim = pd.DataFrame()\n",
    "\n",
    "def similarity(i, j):\n",
    "    nom = (normalized.loc[i]*normalized.loc[j]).sum()\n",
    "    denom = sqrt_sum_squares.loc[i]*sqrt_sum_squares.loc[j]\n",
    "    return nom/denom\n",
    "\n",
    "t1 = time.time()\n",
    "sys.stdout.write('=' * normalized.index.shape[0])\n",
    "sys.stdout.write('\\n')\n",
    "for i_index, i in enumerate(normalized.index.values):\n",
    "    for j_index, j in enumerate(normalized.index.values):\n",
    "        if (i_index <= j_index):\n",
    "            sim.loc[i,j] = similarity(i,j)\n",
    "        else:\n",
    "            sim.loc[i,j] = sim.loc[j,i]\n",
    "\n",
    "    sys.stdout.write('.')\n",
    "    sys.stdout.flush()\n",
    "print ''\n",
    "t2 = time.time()\n",
    "print (t2-t1)\n"
   ]
  },
  {
   "cell_type": "code",
   "execution_count": 49,
   "metadata": {
    "collapsed": false
   },
   "outputs": [],
   "source": [
    "sim.to_csv('simularity.csv.gz', compression='gzip')"
   ]
  },
  {
   "cell_type": "code",
   "execution_count": 19,
   "metadata": {
    "collapsed": false
   },
   "outputs": [
    {
     "name": "stdout",
     "output_type": "stream",
     "text": [
      "0.198402881622\n"
     ]
    }
   ],
   "source": [
    "from sklearn.metrics.pairwise import cosine_similarity\n",
    "from scipy import sparse\n",
    "\n",
    "t1 = time.time()\n",
    "\n",
    "normalized.fillna(value=0, inplace=True)\n",
    "normalized_sparse = sparse.csr_matrix(normalized)\n",
    "similarities = cosine_similarity(normalized_sparse)\n",
    "# print('pairwise dense output:\\n {}\\n'.format(similarities))\n",
    "\n",
    "t2 = time.time()\n",
    "print (t2-t1)"
   ]
  },
  {
   "cell_type": "code",
   "execution_count": null,
   "metadata": {
    "collapsed": true
   },
   "outputs": [],
   "source": []
  }
 ],
 "metadata": {
  "anaconda-cloud": {},
  "kernelspec": {
   "display_name": "Python 2",
   "language": "python",
   "name": "python2"
  },
  "language_info": {
   "codemirror_mode": {
    "name": "ipython",
    "version": 2
   },
   "file_extension": ".py",
   "mimetype": "text/x-python",
   "name": "python",
   "nbconvert_exporter": "python",
   "pygments_lexer": "ipython2",
   "version": "2.7.13"
  }
 },
 "nbformat": 4,
 "nbformat_minor": 1
}
